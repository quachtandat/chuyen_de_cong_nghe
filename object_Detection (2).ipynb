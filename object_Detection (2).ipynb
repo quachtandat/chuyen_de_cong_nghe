{
  "cells": [
    {
      "cell_type": "code",
      "execution_count": null,
      "metadata": {
        "id": "NA61wjpKRVlY"
      },
      "outputs": [],
      "source": [
        "!git clone https://github.com/ultralytics/yolov5  # clone"
      ]
    },
    {
      "cell_type": "code",
      "execution_count": null,
      "metadata": {
        "id": "WPEXfW6dReTG"
      },
      "outputs": [],
      "source": [
        "!pip install -r /content/yolov5/requirements.txt  # install"
      ]
    },
    {
      "cell_type": "code",
      "execution_count": null,
      "metadata": {
        "id": "adFe4nP1nTkO"
      },
      "outputs": [],
      "source": [
        "from google.colab import drive\n",
        "drive.mount('/content/drive')"
      ]
    },
    {
      "cell_type": "code",
      "execution_count": null,
      "metadata": {
        "colab": {
          "base_uri": "https://localhost:8080/"
        },
        "id": "lFg9dnYAng0d",
        "outputId": "0e859247-7e0d-4f53-cd4f-15d48cea479b"
      },
      "outputs": [
        {
          "name": "stdout",
          "output_type": "stream",
          "text": [
            "data.yaml  README.dataset.txt\tsample_data\t\ttest   yolov5\n",
            "drive\t   README.roboflow.txt\tSET1.v2i.yolov5pytorch\ttrain\n"
          ]
        }
      ],
      "source": [
        "!ls /content"
      ]
    },
    {
      "cell_type": "code",
      "execution_count": null,
      "metadata": {
        "colab": {
          "background_save": true,
          "base_uri": "https://localhost:8080/"
        },
        "id": "oHh49wW1Rf8N",
        "outputId": "d83d423c-66d5-44ad-e22a-6dc158679e02"
      },
      "outputs": [
        {
          "name": "stdout",
          "output_type": "stream",
          "text": [
            "\n",
            "UNRAR 6.11 beta 1 freeware      Copyright (c) 1993-2022 Alexander Roshal\n",
            "\n",
            "\n",
            "Extracting from /content/drive/MyDrive/dataset.rar\n",
            "\n",
            "\n",
            "Would you like to replace the existing file SET1.v2i.yolov5pytorch/data.yaml\n",
            "   506 bytes, modified on 2024-12-26 02:04\n",
            "with a new one\n",
            "   506 bytes, modified on 2024-12-26 02:04\n",
            "\n",
            "[Y]es, [N]o, [A]ll, n[E]ver, [R]ename, [Q]uit "
          ]
        }
      ],
      "source": [
        "!unrar x /content/drive/MyDrive/dataset.rar"
      ]
    },
    {
      "cell_type": "code",
      "execution_count": null,
      "metadata": {
        "colab": {
          "base_uri": "https://localhost:8080/"
        },
        "id": "ElV6x1wFn4QS",
        "outputId": "b297044f-ed34-4fc4-ea13-c3b4d888a2af"
      },
      "outputs": [
        {
          "name": "stdout",
          "output_type": "stream",
          "text": [
            "\n",
            "train: /content/train/images\n",
            "val: /content/valid/images\n",
            "test: /content/test/images\n",
            "\n",
            "nc: 25\n",
            "names: ['banh mi', 'ca rot', 'canh', 'chan ga', 'chanh', 'com', 'do chien', 'do cuon', 'do ngot', 'do nuong', 'do song', 'do xao', 'long nuong', 'mo hanh', 'ngo', 'nuoc tuong', 'oc', 'rau thap cam', 'roi', 'tai heo', 'thit kho', 'thit nuong', 'thuc an', 'tieu', 'tuong ot']\n",
            "\n",
            "roboflow:\n",
            "  workspace: test-4f8kb\n",
            "  project: set1-h42i7\n",
            "  version: 2\n",
            "  license: CC BY 4.0\n",
            "  url: https://universe.roboflow.com/test-4f8kb/set1-h42i7/dataset/2\n",
            "\n"
          ]
        }
      ],
      "source": [
        "# Đọc nội dung file hiện có\n",
        "file_path = '/content/data.yaml'  # Đường dẫn file\n",
        "with open(file_path, 'r') as f:\n",
        "    content = f.read()\n",
        "    # In nội dung hiện tại (để tham khảo)\n",
        "print(content)"
      ]
    },
    {
      "cell_type": "code",
      "execution_count": null,
      "metadata": {
        "id": "n3JzystoobQc"
      },
      "outputs": [],
      "source": [
        "# Đường dẫn file data.yaml cần cập nhật\n",
        "file_path = '/content/data.yaml'\n",
        "\n",
        "# Cập nhật các đường dẫn train, val, test\n",
        "updated_paths = \"\"\"\n",
        "train: /content/train/images\n",
        "val: /content/valid/images\n",
        "test: /content/test/images\n",
        "\n",
        "nc: 25\n",
        "names: ['banh mi', 'ca rot', 'canh', 'chan ga', 'chanh', 'com', 'do chien', 'do cuon', 'do ngot', 'do nuong', 'do song', 'do xao', 'long nuong', 'mo hanh', 'ngo', 'nuoc tuong', 'oc', 'rau thap cam', 'roi', 'tai heo', 'thit kho', 'thit nuong', 'thuc an', 'tieu', 'tuong ot']\n",
        "\n",
        "roboflow:\n",
        "  workspace: test-4f8kb\n",
        "  project: set1-h42i7\n",
        "  version: 2\n",
        "  license: CC BY 4.0\n",
        "  url: https://universe.roboflow.com/test-4f8kb/set1-h42i7/dataset/2\n",
        "\"\"\"\n",
        "\n",
        "# Đọc nội dung file cũ\n",
        "with open(file_path, 'w') as f:\n",
        "    f.write(updated_paths)\n",
        "\n",
        "# Kiểm tra nội dung file sau khi cập nhật\n",
        "!cat /content/data.yaml"
      ]
    },
    {
      "cell_type": "code",
      "execution_count": null,
      "metadata": {
        "colab": {
          "base_uri": "https://localhost:8080/"
        },
        "id": "VpHfbec6pHug",
        "outputId": "a6daba4f-50ba-4cfe-fc5f-65f2938a0c81"
      },
      "outputs": [
        {
          "name": "stdout",
          "output_type": "stream",
          "text": [
            "/content/drive/MyDrive/dataset.rar\n"
          ]
        }
      ],
      "source": [
        "!ls /content/drive/MyDrive/dataset.rar\n"
      ]
    },
    {
      "cell_type": "code",
      "execution_count": null,
      "metadata": {
        "colab": {
          "base_uri": "https://localhost:8080/"
        },
        "id": "J9li7OKRSJAI",
        "outputId": "5ef2b9d8-2171-47c2-c8ac-3e9b4bee6ea9"
      },
      "outputs": [
        {
          "name": "stdout",
          "output_type": "stream",
          "text": [
            "\u001b[34m\u001b[1mwandb\u001b[0m: WARNING ⚠️ wandb is deprecated and will be removed in a future release. See supported integrations at https://github.com/ultralytics/yolov5#integrations.\n",
            "2024-12-26 02:23:58.359386: E external/local_xla/xla/stream_executor/cuda/cuda_fft.cc:485] Unable to register cuFFT factory: Attempting to register factory for plugin cuFFT when one has already been registered\n",
            "2024-12-26 02:23:58.394476: E external/local_xla/xla/stream_executor/cuda/cuda_dnn.cc:8454] Unable to register cuDNN factory: Attempting to register factory for plugin cuDNN when one has already been registered\n",
            "2024-12-26 02:23:58.404798: E external/local_xla/xla/stream_executor/cuda/cuda_blas.cc:1452] Unable to register cuBLAS factory: Attempting to register factory for plugin cuBLAS when one has already been registered\n",
            "\u001b[34m\u001b[1mwandb\u001b[0m: Using wandb-core as the SDK backend.  Please refer to https://wandb.me/wandb-core for more information.\n",
            "\u001b[34m\u001b[1mwandb\u001b[0m: (1) Create a W&B account\n",
            "\u001b[34m\u001b[1mwandb\u001b[0m: (2) Use an existing W&B account\n",
            "\u001b[34m\u001b[1mwandb\u001b[0m: (3) Don't visualize my results\n",
            "\u001b[34m\u001b[1mwandb\u001b[0m: Enter your choice: (30 second timeout) 3\n",
            "\u001b[34m\u001b[1mwandb\u001b[0m: You chose \"Don't visualize my results\"\n",
            "\u001b[34m\u001b[1mtrain: \u001b[0mweights=/content/yolov5/runs/train/exp/weights/best.pt, cfg=, data=/content/data.yaml, hyp=yolov5/data/hyps/hyp.scratch-low.yaml, epochs=3, batch_size=16, imgsz=640, rect=False, resume=False, nosave=False, noval=False, noautoanchor=False, noplots=False, evolve=None, evolve_population=yolov5/data/hyps, resume_evolve=None, bucket=, cache=None, image_weights=False, device=, multi_scale=False, single_cls=False, optimizer=SGD, sync_bn=False, workers=8, project=yolov5/runs/train, name=exp, exist_ok=False, quad=False, cos_lr=False, label_smoothing=0.0, patience=100, freeze=[0], save_period=-1, seed=0, local_rank=-1, entity=None, upload_dataset=False, bbox_interval=-1, artifact_alias=latest, ndjson_console=False, ndjson_file=False\n",
            "\u001b[34m\u001b[1mgithub: \u001b[0mup to date with https://github.com/ultralytics/yolov5 ✅\n",
            "YOLOv5 🚀 v7.0-390-g0797106a Python-3.10.12 torch-2.5.1+cu121 CPU\n",
            "\n",
            "\u001b[34m\u001b[1mhyperparameters: \u001b[0mlr0=0.01, lrf=0.01, momentum=0.937, weight_decay=0.0005, warmup_epochs=3.0, warmup_momentum=0.8, warmup_bias_lr=0.1, box=0.05, cls=0.5, cls_pw=1.0, obj=1.0, obj_pw=1.0, iou_t=0.2, anchor_t=4.0, fl_gamma=0.0, hsv_h=0.015, hsv_s=0.7, hsv_v=0.4, degrees=0.0, translate=0.1, scale=0.5, shear=0.0, perspective=0.0, flipud=0.0, fliplr=0.5, mosaic=1.0, mixup=0.0, copy_paste=0.0\n",
            "\u001b[34m\u001b[1mComet: \u001b[0mrun 'pip install comet_ml' to automatically track and visualize YOLOv5 🚀 runs in Comet\n",
            "\u001b[34m\u001b[1mTensorBoard: \u001b[0mStart with 'tensorboard --logdir yolov5/runs/train', view at http://localhost:6006/\n",
            "\n",
            "Dataset not found ⚠️, missing paths ['/content/sample_data/images']\n",
            "Traceback (most recent call last):\n",
            "  File \"/content/yolov5/train.py\", line 986, in <module>\n",
            "    main(opt)\n",
            "  File \"/content/yolov5/train.py\", line 688, in main\n",
            "    train(opt.hyp, opt, device, callbacks)\n",
            "  File \"/content/yolov5/train.py\", line 203, in train\n",
            "    data_dict = data_dict or check_dataset(data)  # check if None\n",
            "  File \"/content/yolov5/utils/general.py\", line 565, in check_dataset\n",
            "    raise Exception(\"Dataset not found ❌\")\n",
            "Exception: Dataset not found ❌\n"
          ]
        }
      ],
      "source": [
        "!python /content/yolov5/train.py --img 640 --epochs 3 --data /content/data.yaml --weights /content/yolov5/runs/train/exp/weights/best.pt"
      ]
    },
    {
      "cell_type": "code",
      "execution_count": null,
      "metadata": {
        "id": "_cELbuBIaRu-"
      },
      "outputs": [],
      "source": []
    },
    {
      "cell_type": "code",
      "execution_count": null,
      "metadata": {
        "id": "VjL7QPrNYGRx"
      },
      "outputs": [],
      "source": [
        "# !python /content/yolov5/train.py --img 640 --epochs 3 --data coco128.yaml --weights /content/yolov5/runs/train/exp/weights/best.pt"
      ]
    },
    {
      "cell_type": "code",
      "execution_count": null,
      "metadata": {
        "id": "CsieoD0qVdN3"
      },
      "outputs": [],
      "source": [
        "!python /content/yolov5/detect.py --source /content/yolov5/data/images"
      ]
    }
  ],
  "metadata": {
    "colab": {
      "provenance": []
    },
    "kernelspec": {
      "display_name": "Python 3",
      "name": "python3"
    },
    "language_info": {
      "name": "python"
    }
  },
  "nbformat": 4,
  "nbformat_minor": 0
}