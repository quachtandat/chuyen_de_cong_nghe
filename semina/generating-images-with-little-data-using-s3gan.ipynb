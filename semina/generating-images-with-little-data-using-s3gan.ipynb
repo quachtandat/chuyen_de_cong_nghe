{
 "cells": [
  {
   "cell_type": "markdown",
   "id": "90980d05",
   "metadata": {
    "id": "_m5jsOM9kXWP",
    "papermill": {
     "duration": 0.005153,
     "end_time": "2023-02-23T18:57:12.912457",
     "exception": false,
     "start_time": "2023-02-23T18:57:12.907304",
     "status": "completed"
    },
    "tags": []
   },
   "source": [
    "## Setup"
   ]
  },
  {
   "cell_type": "code",
   "execution_count": null,
   "id": "5c852b89",
   "metadata": {},
   "outputs": [],
   "source": [
    "! pip install ipython numpy pillow pandas six tensorflow tensorflow-hub"
   ]
  },
  {
   "cell_type": "code",
   "execution_count": null,
   "id": "dc79ba85",
   "metadata": {},
   "outputs": [],
   "source": [
    "# @title Imports and utility functions\n",
    "import os\n",
    "\n",
    "import IPython\n",
    "from IPython.display import display\n",
    "import numpy as np\n",
    "import PIL.Image\n",
    "import pandas as pd\n",
    "import six\n",
    "\n",
    "import tensorflow.compat.v1 as tf\n",
    "tf.disable_v2_behavior()\n",
    "\n",
    "import tensorflow_hub as hub"
   ]
  },
  {
   "cell_type": "code",
   "execution_count": 2,
   "id": "46afea39",
   "metadata": {
    "cellView": "both",
    "execution": {
     "iopub.execute_input": "2023-02-23T18:57:12.924500Z",
     "iopub.status.busy": "2023-02-23T18:57:12.924225Z",
     "iopub.status.idle": "2023-02-23T18:57:20.666300Z",
     "shell.execute_reply": "2023-02-23T18:57:20.665375Z"
    },
    "id": "NhlMa_tHs0_W",
    "papermill": {
     "duration": 7.751151,
     "end_time": "2023-02-23T18:57:20.668879",
     "exception": false,
     "start_time": "2023-02-23T18:57:12.917728",
     "status": "completed"
    },
    "tags": []
   },
   "outputs": [],
   "source": [
    "def imgrid(imarray, cols=8, pad=1):\n",
    "  pad = int(pad)\n",
    "  assert pad >= 0\n",
    "  cols = int(cols)\n",
    "  assert cols >= 1\n",
    "  N, H, W, C = imarray.shape\n",
    "  rows = int(np.ceil(N / float(cols)))\n",
    "  batch_pad = rows * cols - N\n",
    "  assert batch_pad >= 0\n",
    "  post_pad = [batch_pad, pad, pad, 0]\n",
    "  pad_arg = [[0, p] for p in post_pad]\n",
    "  imarray = np.pad(imarray, pad_arg, 'constant')\n",
    "  H += pad\n",
    "  W += pad\n",
    "  grid = (imarray\n",
    "          .reshape(rows, cols, H, W, C)\n",
    "          .transpose(0, 2, 1, 3, 4)\n",
    "          .reshape(rows*H, cols*W, C))\n",
    "  return grid[:-pad, :-pad]\n",
    "\n",
    "\n",
    "def imshow(a, format='png', jpeg_fallback=True):\n",
    "  a = np.asarray(a, dtype=np.uint8)\n",
    "  if six.PY3:\n",
    "    str_file = six.BytesIO()\n",
    "  else:\n",
    "    str_file = six.StringIO()\n",
    "  PIL.Image.fromarray(a).save(str_file, format)\n",
    "  png_data = str_file.getvalue()\n",
    "  try:\n",
    "    disp = display(IPython.display.Image(png_data))\n",
    "  except IOError:\n",
    "    if jpeg_fallback and format != 'jpeg':\n",
    "      print ('Warning: image was too large to display in format \"{}\"; '\n",
    "             'trying jpeg instead.').format(format)\n",
    "      return imshow(a, format='jpeg')\n",
    "    else:\n",
    "      raise\n",
    "  return disp\n"
   ]
  },
  {
   "cell_type": "code",
   "execution_count": 3,
   "id": "dc388ccd",
   "metadata": {},
   "outputs": [],
   "source": [
    "class Generator(object):\n",
    "\n",
    "  def __init__(self, module_spec):\n",
    "    self._module_spec = module_spec\n",
    "    self._sess = None\n",
    "    self._graph = tf.Graph()\n",
    "    self._load_model()\n",
    "\n",
    "  @property\n",
    "  def z_dim(self):\n",
    "    return self._z.shape[-1].value\n",
    "\n",
    "  @property\n",
    "  def conditional(self):\n",
    "    return self._labels is not None\n",
    "\n",
    "  def _load_model(self):\n",
    "    with self._graph.as_default():\n",
    "        self._generator = hub.load(self._module_spec)\n",
    "        \n",
    "        # Retrieve the structured input signature of the model\n",
    "        input_signature = self._generator.signatures[\"default\"].structured_input_signature[1]\n",
    "        \n",
    "        # Define input tensors based on expected shapes and types\n",
    "        inputs = {\n",
    "            key: tf.zeros(shape=spec.shape, dtype=spec.dtype) \n",
    "            for key, spec in input_signature.items()\n",
    "        }\n",
    "        \n",
    "        # Generate a sample output by calling the model with these inputs\n",
    "        self._samples = self._generator.signatures[\"default\"](**inputs)\n",
    "        \n",
    "        print(\"Inputs:\", inputs)\n",
    "        print(\"Generated output:\", self._samples)\n",
    "        \n",
    "        # Set self._z and self._labels if present in input keys\n",
    "        self._z = inputs.get(\"z\")\n",
    "        self._labels = inputs.get(\"labels\", None)\n",
    "\n",
    "  def _init_session(self):\n",
    "    if self._sess is None:\n",
    "      self._sess = tf.Session(graph=self._graph)\n",
    "      self._sess.run(tf.global_variables_initializer())\n",
    "\n",
    "  def get_noise(self, num_samples, seed=None):\n",
    "    if np.isscalar(seed):\n",
    "      np.random.seed(seed)\n",
    "      return np.random.normal(size=[num_samples, self.z_dim])\n",
    "    z = np.empty(shape=(len(seed), self.z_dim), dtype=np.float32)\n",
    "    for i, s in enumerate(seed):\n",
    "      np.random.seed(s)\n",
    "      z[i] = np.random.normal(size=[self.z_dim])\n",
    "    return z\n",
    "\n",
    "  def get_samples(self, z, labels=None):\n",
    "    with self._graph.as_default():\n",
    "      self._init_session()\n",
    "\n",
    "      feed_dict = {self._z: z}\n",
    "      if self.conditional:\n",
    "        assert labels is not None\n",
    "        assert labels.shape[0] == z.shape[0]\n",
    "        feed_dict[self._labels] = labels\n",
    "\n",
    "      # Thực hiện suy luận và in ra kết quả trả về từ mô hình\n",
    "        samples = self._sess.run(self._samples, feed_dict=feed_dict)\n",
    "        print(\"Samples dictionary:\", samples)  # Xem các khóa trong samples\n",
    "        \n",
    "        # Giả sử đầu ra mong muốn nằm trong khóa 'generated'\n",
    "        generated_samples = samples[\"generated\"]  # Thay 'generated' bằng tên khóa thực tế\n",
    "        return np.uint8(np.clip(256 * generated_samples, 0, 255))\n",
    "\n",
    "      # samples = self._sess.run(self._samples, feed_dict=feed_dict)\n",
    "      # return np.uint8(np.clip(256 * samples, 0, 255))"
   ]
  },
  {
   "cell_type": "markdown",
   "id": "e8c750ed",
   "metadata": {
    "id": "msTFS1UPkugr",
    "papermill": {
     "duration": 0.004982,
     "end_time": "2023-02-23T18:57:20.679743",
     "exception": false,
     "start_time": "2023-02-23T18:57:20.674761",
     "status": "completed"
    },
    "tags": []
   },
   "source": [
    "## Select a model"
   ]
  },
  {
   "cell_type": "code",
   "execution_count": null,
   "id": "5749f35a",
   "metadata": {
    "cellView": "both",
    "execution": {
     "iopub.execute_input": "2023-02-23T18:57:20.692181Z",
     "iopub.status.busy": "2023-02-23T18:57:20.691583Z",
     "iopub.status.idle": "2023-02-23T18:57:24.897086Z",
     "shell.execute_reply": "2023-02-23T18:57:24.896062Z"
    },
    "id": "-hBEi9IFdoI-",
    "papermill": {
     "duration": 4.214762,
     "end_time": "2023-02-23T18:57:24.899761",
     "exception": false,
     "start_time": "2023-02-23T18:57:20.684999",
     "status": "completed"
    },
    "tags": []
   },
   "outputs": [],
   "source": [
    "# @title Select a model { run: \"auto\" }\n",
    "\n",
    "model_name = \"S3GAN 128x128 20% labels (FID 6.9, IS 98.1)\"  # @param [\"S3GAN 256x256 10% labels (FID 8.8, IS 130.7)\", \"S3GAN 128x128 2.5% labels (FID 12.6, IS 48.7)\", \"S3GAN 128x128 5% labels (FID 8.4, IS 74.0)\", \"S3GAN 128x128 10% labels (FID 7.6, IS 90.3)\", \"S3GAN 128x128 20% labels (FID 6.9, IS 98.1)\"]\n",
    "models = {\n",
    "    \"S3GAN 256x256 10% labels\": \"https://tfhub.dev/google/compare_gan/s3gan_10_256x256/1\",\n",
    "    \"S3GAN 128x128 2.5% labels\": \"https://tfhub.dev/google/compare_gan/s3gan_2_5_128x128/1\",\n",
    "    \"S3GAN 128x128 5% labels\": \"https://tfhub.dev/google/compare_gan/s3gan_5_128x128/1\",\n",
    "    \"S3GAN 128x128 10% labels\": \"https://tfhub.dev/google/compare_gan/s3gan_10_128x128/1\",\n",
    "    \"S3GAN 128x128 20% labels\": \"https://tfhub.dev/google/compare_gan/s3gan_20_128x128/1\",\n",
    "}\n",
    "\n",
    "module_spec = models[model_name.split(\" (\")[0]]\n",
    "print(\"Module spec:\", module_spec)\n",
    "\n",
    "tf.reset_default_graph()\n",
    "# tf.compat.v1.reset_default_graph()\n",
    "print(\"Loading model...\")\n",
    "sampler = Generator(module_spec)\n",
    "print(\"Model loaded.\")"
   ]
  },
  {
   "cell_type": "markdown",
   "id": "34355e32",
   "metadata": {
    "id": "ePQuAme_kxLj",
    "papermill": {
     "duration": 0.004962,
     "end_time": "2023-02-23T18:57:24.910125",
     "exception": false,
     "start_time": "2023-02-23T18:57:24.905163",
     "status": "completed"
    },
    "tags": []
   },
   "source": [
    "## Sample"
   ]
  },
  {
   "cell_type": "code",
   "execution_count": null,
   "id": "47cbde47",
   "metadata": {
    "cellView": "form",
    "execution": {
     "iopub.execute_input": "2023-02-23T18:57:24.923195Z",
     "iopub.status.busy": "2023-02-23T18:57:24.922870Z",
     "iopub.status.idle": "2023-02-23T18:57:40.738916Z",
     "shell.execute_reply": "2023-02-23T18:57:40.737954Z"
    },
    "id": "kGgTXtFYq_FV",
    "papermill": {
     "duration": 15.828187,
     "end_time": "2023-02-23T18:57:40.743609",
     "exception": false,
     "start_time": "2023-02-23T18:57:24.915422",
     "status": "completed"
    },
    "tags": []
   },
   "outputs": [],
   "source": [
    "# @title Sampling { run: \"auto\" }\n",
    "\n",
    "num_rows = 2  # Số hàng\n",
    "num_cols = 3  # Số cột\n",
    "noise_seed = 23  # Hạt giống cho noise\n",
    "label_str = \"980) volcano\"  \n",
    "\n",
    "num_samples = 64  # Tổng số mẫu (2 * 3 = 6)\n",
    "z = sampler.get_noise(num_samples, seed=noise_seed)\n",
    "\n",
    "label = int(label_str.split(')')[0])\n",
    "if label == -1:\n",
    "    # Nếu label là -1, chọn ngẫu nhiên label từ số lớp\n",
    "    labels = np.random.randint(0, num_classes, size=(num_samples))\n",
    "else:\n",
    "    # Tạo mảng label với tất cả các giá trị giống nhau\n",
    "    labels = np.asarray([label] * num_samples)\n",
    "\n",
    "# Gọi hàm get_samples với z và labels\n",
    "samples = sampler.get_samples(z, labels)\n",
    "\n",
    "# Hiển thị hình ảnh\n",
    "imshow(imgrid(samples[:6], cols=num_cols))\n",
    "# Hiển thị chỉ 6 hình\n",
    "# imshow(imgrid(samples[:6], cols=num_cols))  # Chỉ hiển thị 6 hình\n"
   ]
  },
  {
   "cell_type": "code",
   "execution_count": null,
   "id": "bdf1665b",
   "metadata": {
    "cellView": "form",
    "execution": {
     "iopub.execute_input": "2023-02-23T18:57:40.762276Z",
     "iopub.status.busy": "2023-02-23T18:57:40.761941Z",
     "iopub.status.idle": "2023-02-23T18:57:40.921440Z",
     "shell.execute_reply": "2023-02-23T18:57:40.920515Z"
    },
    "id": "vCffdVZvTtxL",
    "papermill": {
     "duration": 0.173387,
     "end_time": "2023-02-23T18:57:40.925087",
     "exception": false,
     "start_time": "2023-02-23T18:57:40.751700",
     "status": "completed"
    },
    "tags": []
   },
   "outputs": [],
   "source": [
    "# @title Interpolation { run: \"auto\" }\n",
    "\n",
    "num_samples = 1 \n",
    "num_interps = 6  \n",
    "noise_seed_A = 11 \n",
    "noise_seed_B = 0\n",
    "label_str = \"1) goldfish, Carassius auratus\"  \n",
    "\n",
    "\n",
    "def interpolate(A, B, num_interps):\n",
    "  alphas = np.linspace(0, 1, num_interps)\n",
    "  if A.shape != B.shape:\n",
    "    raise ValueError('A and B must have the same shape to interpolate.')\n",
    "  return np.array([((1-a)*A + a*B)/np.sqrt(a**2 + (1-a)**2) for a in alphas])\n",
    "\n",
    "\n",
    "def interpolate_and_shape(A, B, num_interps):\n",
    "  interps = interpolate(A, B, num_interps)\n",
    "  return (interps.transpose(1, 0, *range(2, len(interps.shape)))\n",
    "                 .reshape(num_samples * num_interps, -1))\n",
    "\n",
    "label = int(label_str.split(')')[0])\n",
    "labels = np.asarray([label] * num_samples * num_interps)\n",
    "\n",
    "\n",
    "z_A = sampler.get_noise(num_samples, seed=noise_seed_A)\n",
    "z_B = sampler.get_noise(num_samples, seed=noise_seed_B)\n",
    "z = interpolate_and_shape(z_A, z_B, num_interps)\n",
    "\n",
    "target_shape = (64, z.shape[1])  # Kích thước mà mô hình mong đợi (64, 120)\n",
    "padded_z = np.zeros(target_shape, dtype=z.dtype)\n",
    "padded_z[:z.shape[0]] = z  # Điền dữ liệu thực tế đến `z.shape[0]`\n",
    "\n",
    "padded_labels = np.zeros(64, dtype=labels.dtype)\n",
    "padded_labels[:labels.shape[0]] = labels\n",
    "\n",
    "samples = sampler.get_samples(padded_z, padded_labels)\n",
    "imshow(imgrid(samples[:6], cols=num_interps))\n",
    "# samples = sampler.get_samples(z, labels)\n",
    "# imshow(imgrid(samples, cols=num_interps))"
   ]
  },
  {
   "cell_type": "markdown",
   "id": "65040dda",
   "metadata": {
    "id": "esW0Up95Ob6U",
    "papermill": {
     "duration": 0.011127,
     "end_time": "2023-02-23T18:57:40.946926",
     "exception": false,
     "start_time": "2023-02-23T18:57:40.935799",
     "status": "completed"
    },
    "tags": []
   },
   "source": [
    "## Discriminator"
   ]
  },
  {
   "cell_type": "code",
   "execution_count": null,
   "id": "2c7abbeb",
   "metadata": {},
   "outputs": [],
   "source": [
    "class Discriminator(object):\n",
    "\n",
    "  def __init__(self, module_spec):\n",
    "    self._module_spec = module_spec\n",
    "    self._sess = None\n",
    "    self._graph = tf.Graph()\n",
    "    self._load_model()\n",
    "\n",
    "  @property\n",
    "  def conditional(self):\n",
    "    return \"labels\" in self._inputs\n",
    "\n",
    "  @property\n",
    "  def image_shape(self):\n",
    "    return self._inputs[\"images\"].shape.as_list()[1:]\n",
    "\n",
    "  def _load_model(self):\n",
    "    with self._graph.as_default():\n",
    "      self._discriminator = hub.load(self._module_spec,tags={\"disc\", \"bsNone\"})\n",
    "      signature = self._discriminator.signatures[\"default\"]\n",
    "      # Lấy thông tin đầu vào của mô hình\n",
    "      input_info = self._discriminator.signatures['default'].structured_input_signature[1]\n",
    "      self._inputs = {k: tf.placeholder(v.dtype, v.shape.as_list(), k) for k, v in input_info.items()}\n",
    "\n",
    "      self._outputs = signature(**self._inputs)\n",
    "      print(\"Inputs:\", self._inputs)\n",
    "      print(\"Outputs:\", self._outputs)\n",
    "\n",
    "  def _init_session(self):\n",
    "    if self._sess is None:\n",
    "      self._sess = tf.Session(graph=self._graph)\n",
    "      self._sess.run(tf.global_variables_initializer())\n",
    "\n",
    "  def predict(self, images, labels=None):\n",
    "    with self._graph.as_default():\n",
    "      self._init_session()\n",
    "      feed_dict = {self._inputs[\"images\"]: images}\n",
    "      if \"labels\" in self._inputs:\n",
    "        assert labels is not None\n",
    "        assert labels.shape[0] == images.shape[0]\n",
    "        feed_dict[self._inputs[\"labels\"]] = labels\n",
    "      return self._sess.run(self._outputs, feed_dict=feed_dict)"
   ]
  },
  {
   "cell_type": "code",
   "execution_count": null,
   "id": "e47abf8b",
   "metadata": {
    "execution": {
     "iopub.execute_input": "2023-02-23T18:57:40.969878Z",
     "iopub.status.busy": "2023-02-23T18:57:40.969586Z",
     "iopub.status.idle": "2023-02-23T18:57:45.968961Z",
     "shell.execute_reply": "2023-02-23T18:57:45.967186Z"
    },
    "id": "ButxPSq0OzgL",
    "papermill": {
     "duration": 5.014357,
     "end_time": "2023-02-23T18:57:45.972013",
     "exception": false,
     "start_time": "2023-02-23T18:57:40.957656",
     "status": "completed"
    },
    "tags": []
   },
   "outputs": [],
   "source": [
    "disc = Discriminator(module_spec)\n",
    "\n",
    "batch_size = 4\n",
    "num_classes = 1000\n",
    "images = np.random.random(size=[batch_size] + disc.image_shape)\n",
    "labels = np.random.randint(0, num_classes, size=(batch_size))\n",
    "\n",
    "disc.predict(images, labels=labels)\n",
    "# lấy hình ảnh trong hàm Generator\n",
    "# samples = sampler.get_samples(z, labels)\n",
    "# predictions = disc.predict(samples[:4], labels=labels[:4])  \n",
    "# print(predictions)\n"
   ]
  },
  {
   "cell_type": "markdown",
   "id": "56c6d647",
   "metadata": {
    "papermill": {
     "duration": 0.01154,
     "end_time": "2023-02-23T18:57:45.995510",
     "exception": false,
     "start_time": "2023-02-23T18:57:45.983970",
     "status": "completed"
    },
    "tags": []
   },
   "source": [
    "Credit: https://github.com/tensorflow/hub/blob/master/examples/colab/s3gan_generation_with_tf_hub.ipynb"
   ]
  }
 ],
 "metadata": {
  "kernelspec": {
   "display_name": "Python 3",
   "language": "python",
   "name": "python3"
  },
  "language_info": {
   "codemirror_mode": {
    "name": "ipython",
    "version": 3
   },
   "file_extension": ".py",
   "mimetype": "text/x-python",
   "name": "python",
   "nbconvert_exporter": "python",
   "pygments_lexer": "ipython3",
   "version": "3.12.6"
  },
  "papermill": {
   "default_parameters": {},
   "duration": 45.420073,
   "end_time": "2023-02-23T18:57:49.984281",
   "environment_variables": {},
   "exception": null,
   "input_path": "__notebook__.ipynb",
   "output_path": "__notebook__.ipynb",
   "parameters": {},
   "start_time": "2023-02-23T18:57:04.564208",
   "version": "2.3.4"
  }
 },
 "nbformat": 4,
 "nbformat_minor": 5
}
